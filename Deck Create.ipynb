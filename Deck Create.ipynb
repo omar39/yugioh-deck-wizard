{
 "cells": [
  {
   "cell_type": "code",
   "execution_count": 6,
   "metadata": {},
   "outputs": [],
   "source": [
    "import pandas as pd\n",
    "import requests\n",
    "import json\n",
    "import os\n",
    "from io import BytesIO\n",
    "# from ISR.models import RDN;\n",
    "import numpy as np\n",
    "from PIL import Image\n",
    "import time\n",
    "\n",
    "from YDKReader import Reader\n",
    "from IPython.display import clear_output\n",
    "\n",
    "database_filename = \"database.csv\"\n",
    "database_folder = \"./Images Database/\"\n",
    "\n",
    "database = pd.DataFrame()"
   ]
  },
  {
   "cell_type": "markdown",
   "metadata": {},
   "source": [
    "## Part 1: Update the Database"
   ]
  },
  {
   "cell_type": "code",
   "execution_count": 11,
   "metadata": {},
   "outputs": [],
   "source": [
    "def update_database():\n",
    "    '''\n",
    "    Update cards database for newer cards.\n",
    "    '''\n",
    "    print(\"Updating Database....\")\n",
    "    response = requests.get(\"https://db.ygoprodeck.com/api/v7/cardinfo.php\")\n",
    "    if response.status_code == 200:\n",
    "        print(\"Success\")\n",
    "        card = response.json()\n",
    "        df = pd.json_normalize(card['data'], record_path=['card_images'], meta=['name'])\n",
    "        df = df[1:]\n",
    "        df['upscaled_image'] = \" \"\n",
    "        df = df.set_index('id')\n",
    "        df.index = df.index.astype(str)\n",
    "        #old_df = pd.read_csv(database_filename, index_col=\"id\")\n",
    "        saved_images = os.listdir('./Images Database/')\n",
    "        # saved_images = old_df['upscaled_image']\n",
    "        for i in saved_images:\n",
    "            df.at[i.split('.png')[0], 'upscaled_image'] = './Images Database/' + i\n",
    "        df.to_csv('./' + database_filename)\n",
    "        return df\n"
   ]
  },
  {
   "cell_type": "markdown",
   "metadata": {},
   "source": [
    "## Part 2: Import the Database"
   ]
  },
  {
   "cell_type": "code",
   "execution_count": 7,
   "metadata": {},
   "outputs": [],
   "source": [
    "def import_database():\n",
    "    '''\n",
    "    Import database. A dataframe object is then returned\n",
    "    '''\n",
    "    database = pd.read_csv(database_filename, index_col=\"id\")\n",
    "    database.index = database.index.astype(str)\n",
    "    #database.head()\n",
    "    return database"
   ]
  },
  {
   "cell_type": "code",
   "execution_count": 8,
   "metadata": {},
   "outputs": [
    {
     "data": {
      "text/html": [
       "<div>\n",
       "<style scoped>\n",
       "    .dataframe tbody tr th:only-of-type {\n",
       "        vertical-align: middle;\n",
       "    }\n",
       "\n",
       "    .dataframe tbody tr th {\n",
       "        vertical-align: top;\n",
       "    }\n",
       "\n",
       "    .dataframe thead th {\n",
       "        text-align: right;\n",
       "    }\n",
       "</style>\n",
       "<table border=\"1\" class=\"dataframe\">\n",
       "  <thead>\n",
       "    <tr style=\"text-align: right;\">\n",
       "      <th></th>\n",
       "      <th>image_url_en</th>\n",
       "      <th>image_url_small</th>\n",
       "      <th>image_url_cropped</th>\n",
       "      <th>name</th>\n",
       "      <th>upscaled_image</th>\n",
       "      <th>image_url_ar</th>\n",
       "      <th>upscaled_image_en</th>\n",
       "      <th>upscaled_image_ar</th>\n",
       "      <th>upscaled_image_anime</th>\n",
       "    </tr>\n",
       "    <tr>\n",
       "      <th>id</th>\n",
       "      <th></th>\n",
       "      <th></th>\n",
       "      <th></th>\n",
       "      <th></th>\n",
       "      <th></th>\n",
       "      <th></th>\n",
       "      <th></th>\n",
       "      <th></th>\n",
       "      <th></th>\n",
       "    </tr>\n",
       "  </thead>\n",
       "  <tbody>\n",
       "    <tr>\n",
       "      <th>64163367</th>\n",
       "      <td>https://images.ygoprodeck.com/images/cards/641...</td>\n",
       "      <td>https://images.ygoprodeck.com/images/cards_sma...</td>\n",
       "      <td>https://images.ygoprodeck.com/images/cards_cro...</td>\n",
       "      <td>\"A\" Cell Incubator</td>\n",
       "      <td></td>\n",
       "      <td>https://www.arab-duelists.com/assets/img/cards...</td>\n",
       "      <td>NaN</td>\n",
       "      <td>NaN</td>\n",
       "      <td>NaN</td>\n",
       "    </tr>\n",
       "    <tr>\n",
       "      <th>91231901</th>\n",
       "      <td>https://images.ygoprodeck.com/images/cards/912...</td>\n",
       "      <td>https://images.ygoprodeck.com/images/cards_sma...</td>\n",
       "      <td>https://images.ygoprodeck.com/images/cards_cro...</td>\n",
       "      <td>\"A\" Cell Recombination Device</td>\n",
       "      <td></td>\n",
       "      <td>https://www.arab-duelists.com/assets/img/cards...</td>\n",
       "      <td>NaN</td>\n",
       "      <td>NaN</td>\n",
       "      <td>NaN</td>\n",
       "    </tr>\n",
       "    <tr>\n",
       "      <th>73262676</th>\n",
       "      <td>https://images.ygoprodeck.com/images/cards/732...</td>\n",
       "      <td>https://images.ygoprodeck.com/images/cards_sma...</td>\n",
       "      <td>https://images.ygoprodeck.com/images/cards_cro...</td>\n",
       "      <td>\"A\" Cell Scatter Burst</td>\n",
       "      <td></td>\n",
       "      <td>https://www.arab-duelists.com/assets/img/cards...</td>\n",
       "      <td>NaN</td>\n",
       "      <td>NaN</td>\n",
       "      <td>NaN</td>\n",
       "    </tr>\n",
       "    <tr>\n",
       "      <th>98319530</th>\n",
       "      <td>https://images.ygoprodeck.com/images/cards/983...</td>\n",
       "      <td>https://images.ygoprodeck.com/images/cards_sma...</td>\n",
       "      <td>https://images.ygoprodeck.com/images/cards_cro...</td>\n",
       "      <td>\"Infernoble Arms - Almace\"</td>\n",
       "      <td></td>\n",
       "      <td>https://www.arab-duelists.com/assets/img/cards...</td>\n",
       "      <td>./Images Database/en/98319530.png</td>\n",
       "      <td>./Images Database/ar/98319530.png</td>\n",
       "      <td>NaN</td>\n",
       "    </tr>\n",
       "    <tr>\n",
       "      <th>37478723</th>\n",
       "      <td>https://images.ygoprodeck.com/images/cards/374...</td>\n",
       "      <td>https://images.ygoprodeck.com/images/cards_sma...</td>\n",
       "      <td>https://images.ygoprodeck.com/images/cards_cro...</td>\n",
       "      <td>\"Infernoble Arms - Durendal\"</td>\n",
       "      <td></td>\n",
       "      <td>https://www.arab-duelists.com/assets/img/cards...</td>\n",
       "      <td>./Images Database/en/37478723.png</td>\n",
       "      <td>./Images Database/ar/37478723.png</td>\n",
       "      <td>NaN</td>\n",
       "    </tr>\n",
       "  </tbody>\n",
       "</table>\n",
       "</div>"
      ],
      "text/plain": [
       "                                               image_url_en  \\\n",
       "id                                                            \n",
       "64163367  https://images.ygoprodeck.com/images/cards/641...   \n",
       "91231901  https://images.ygoprodeck.com/images/cards/912...   \n",
       "73262676  https://images.ygoprodeck.com/images/cards/732...   \n",
       "98319530  https://images.ygoprodeck.com/images/cards/983...   \n",
       "37478723  https://images.ygoprodeck.com/images/cards/374...   \n",
       "\n",
       "                                            image_url_small  \\\n",
       "id                                                            \n",
       "64163367  https://images.ygoprodeck.com/images/cards_sma...   \n",
       "91231901  https://images.ygoprodeck.com/images/cards_sma...   \n",
       "73262676  https://images.ygoprodeck.com/images/cards_sma...   \n",
       "98319530  https://images.ygoprodeck.com/images/cards_sma...   \n",
       "37478723  https://images.ygoprodeck.com/images/cards_sma...   \n",
       "\n",
       "                                          image_url_cropped  \\\n",
       "id                                                            \n",
       "64163367  https://images.ygoprodeck.com/images/cards_cro...   \n",
       "91231901  https://images.ygoprodeck.com/images/cards_cro...   \n",
       "73262676  https://images.ygoprodeck.com/images/cards_cro...   \n",
       "98319530  https://images.ygoprodeck.com/images/cards_cro...   \n",
       "37478723  https://images.ygoprodeck.com/images/cards_cro...   \n",
       "\n",
       "                                   name upscaled_image  \\\n",
       "id                                                       \n",
       "64163367             \"A\" Cell Incubator                  \n",
       "91231901  \"A\" Cell Recombination Device                  \n",
       "73262676         \"A\" Cell Scatter Burst                  \n",
       "98319530     \"Infernoble Arms - Almace\"                  \n",
       "37478723   \"Infernoble Arms - Durendal\"                  \n",
       "\n",
       "                                               image_url_ar  \\\n",
       "id                                                            \n",
       "64163367  https://www.arab-duelists.com/assets/img/cards...   \n",
       "91231901  https://www.arab-duelists.com/assets/img/cards...   \n",
       "73262676  https://www.arab-duelists.com/assets/img/cards...   \n",
       "98319530  https://www.arab-duelists.com/assets/img/cards...   \n",
       "37478723  https://www.arab-duelists.com/assets/img/cards...   \n",
       "\n",
       "                          upscaled_image_en  \\\n",
       "id                                            \n",
       "64163367                                NaN   \n",
       "91231901                                NaN   \n",
       "73262676                                NaN   \n",
       "98319530  ./Images Database/en/98319530.png   \n",
       "37478723  ./Images Database/en/37478723.png   \n",
       "\n",
       "                          upscaled_image_ar  upscaled_image_anime  \n",
       "id                                                                 \n",
       "64163367                                NaN                   NaN  \n",
       "91231901                                NaN                   NaN  \n",
       "73262676                                NaN                   NaN  \n",
       "98319530  ./Images Database/ar/98319530.png                   NaN  \n",
       "37478723  ./Images Database/ar/37478723.png                   NaN  "
      ]
     },
     "execution_count": 8,
     "metadata": {},
     "output_type": "execute_result"
    }
   ],
   "source": [
    "df = import_database()\n",
    "df.head()"
   ]
  },
  {
   "cell_type": "code",
   "execution_count": 9,
   "metadata": {},
   "outputs": [
    {
     "data": {
      "text/html": [
       "<div>\n",
       "<style scoped>\n",
       "    .dataframe tbody tr th:only-of-type {\n",
       "        vertical-align: middle;\n",
       "    }\n",
       "\n",
       "    .dataframe tbody tr th {\n",
       "        vertical-align: top;\n",
       "    }\n",
       "\n",
       "    .dataframe thead th {\n",
       "        text-align: right;\n",
       "    }\n",
       "</style>\n",
       "<table border=\"1\" class=\"dataframe\">\n",
       "  <thead>\n",
       "    <tr style=\"text-align: right;\">\n",
       "      <th></th>\n",
       "      <th>image_url_en</th>\n",
       "      <th>image_url_small</th>\n",
       "      <th>image_url_cropped</th>\n",
       "      <th>name</th>\n",
       "      <th>upscaled_image</th>\n",
       "      <th>image_url_ar</th>\n",
       "      <th>upscaled_image_en</th>\n",
       "      <th>upscaled_image_ar</th>\n",
       "      <th>upscaled_image_anime</th>\n",
       "    </tr>\n",
       "    <tr>\n",
       "      <th>id</th>\n",
       "      <th></th>\n",
       "      <th></th>\n",
       "      <th></th>\n",
       "      <th></th>\n",
       "      <th></th>\n",
       "      <th></th>\n",
       "      <th></th>\n",
       "      <th></th>\n",
       "      <th></th>\n",
       "    </tr>\n",
       "  </thead>\n",
       "  <tbody>\n",
       "    <tr>\n",
       "      <th>64163367</th>\n",
       "      <td>https://images.ygoprodeck.com/images/cards/641...</td>\n",
       "      <td>https://images.ygoprodeck.com/images/cards_sma...</td>\n",
       "      <td>https://images.ygoprodeck.com/images/cards_cro...</td>\n",
       "      <td>\"A\" Cell Incubator</td>\n",
       "      <td></td>\n",
       "      <td>https://www.arab-duelists.com/assets/img/cards...</td>\n",
       "      <td>NaN</td>\n",
       "      <td>NaN</td>\n",
       "      <td>NaN</td>\n",
       "    </tr>\n",
       "    <tr>\n",
       "      <th>91231901</th>\n",
       "      <td>https://images.ygoprodeck.com/images/cards/912...</td>\n",
       "      <td>https://images.ygoprodeck.com/images/cards_sma...</td>\n",
       "      <td>https://images.ygoprodeck.com/images/cards_cro...</td>\n",
       "      <td>\"A\" Cell Recombination Device</td>\n",
       "      <td></td>\n",
       "      <td>https://www.arab-duelists.com/assets/img/cards...</td>\n",
       "      <td>NaN</td>\n",
       "      <td>NaN</td>\n",
       "      <td>NaN</td>\n",
       "    </tr>\n",
       "    <tr>\n",
       "      <th>73262676</th>\n",
       "      <td>https://images.ygoprodeck.com/images/cards/732...</td>\n",
       "      <td>https://images.ygoprodeck.com/images/cards_sma...</td>\n",
       "      <td>https://images.ygoprodeck.com/images/cards_cro...</td>\n",
       "      <td>\"A\" Cell Scatter Burst</td>\n",
       "      <td></td>\n",
       "      <td>https://www.arab-duelists.com/assets/img/cards...</td>\n",
       "      <td>NaN</td>\n",
       "      <td>NaN</td>\n",
       "      <td>NaN</td>\n",
       "    </tr>\n",
       "    <tr>\n",
       "      <th>98319530</th>\n",
       "      <td>https://images.ygoprodeck.com/images/cards/983...</td>\n",
       "      <td>https://images.ygoprodeck.com/images/cards_sma...</td>\n",
       "      <td>https://images.ygoprodeck.com/images/cards_cro...</td>\n",
       "      <td>\"Infernoble Arms - Almace\"</td>\n",
       "      <td></td>\n",
       "      <td>https://www.arab-duelists.com/assets/img/cards...</td>\n",
       "      <td>./Images Database/en/98319530.png</td>\n",
       "      <td>./Images Database/ar/98319530.png</td>\n",
       "      <td>NaN</td>\n",
       "    </tr>\n",
       "    <tr>\n",
       "      <th>37478723</th>\n",
       "      <td>https://images.ygoprodeck.com/images/cards/374...</td>\n",
       "      <td>https://images.ygoprodeck.com/images/cards_sma...</td>\n",
       "      <td>https://images.ygoprodeck.com/images/cards_cro...</td>\n",
       "      <td>\"Infernoble Arms - Durendal\"</td>\n",
       "      <td></td>\n",
       "      <td>https://www.arab-duelists.com/assets/img/cards...</td>\n",
       "      <td>./Images Database/en/37478723.png</td>\n",
       "      <td>./Images Database/ar/37478723.png</td>\n",
       "      <td>NaN</td>\n",
       "    </tr>\n",
       "  </tbody>\n",
       "</table>\n",
       "</div>"
      ],
      "text/plain": [
       "                                               image_url_en  \\\n",
       "id                                                            \n",
       "64163367  https://images.ygoprodeck.com/images/cards/641...   \n",
       "91231901  https://images.ygoprodeck.com/images/cards/912...   \n",
       "73262676  https://images.ygoprodeck.com/images/cards/732...   \n",
       "98319530  https://images.ygoprodeck.com/images/cards/983...   \n",
       "37478723  https://images.ygoprodeck.com/images/cards/374...   \n",
       "\n",
       "                                            image_url_small  \\\n",
       "id                                                            \n",
       "64163367  https://images.ygoprodeck.com/images/cards_sma...   \n",
       "91231901  https://images.ygoprodeck.com/images/cards_sma...   \n",
       "73262676  https://images.ygoprodeck.com/images/cards_sma...   \n",
       "98319530  https://images.ygoprodeck.com/images/cards_sma...   \n",
       "37478723  https://images.ygoprodeck.com/images/cards_sma...   \n",
       "\n",
       "                                          image_url_cropped  \\\n",
       "id                                                            \n",
       "64163367  https://images.ygoprodeck.com/images/cards_cro...   \n",
       "91231901  https://images.ygoprodeck.com/images/cards_cro...   \n",
       "73262676  https://images.ygoprodeck.com/images/cards_cro...   \n",
       "98319530  https://images.ygoprodeck.com/images/cards_cro...   \n",
       "37478723  https://images.ygoprodeck.com/images/cards_cro...   \n",
       "\n",
       "                                   name upscaled_image  \\\n",
       "id                                                       \n",
       "64163367             \"A\" Cell Incubator                  \n",
       "91231901  \"A\" Cell Recombination Device                  \n",
       "73262676         \"A\" Cell Scatter Burst                  \n",
       "98319530     \"Infernoble Arms - Almace\"                  \n",
       "37478723   \"Infernoble Arms - Durendal\"                  \n",
       "\n",
       "                                               image_url_ar  \\\n",
       "id                                                            \n",
       "64163367  https://www.arab-duelists.com/assets/img/cards...   \n",
       "91231901  https://www.arab-duelists.com/assets/img/cards...   \n",
       "73262676  https://www.arab-duelists.com/assets/img/cards...   \n",
       "98319530  https://www.arab-duelists.com/assets/img/cards...   \n",
       "37478723  https://www.arab-duelists.com/assets/img/cards...   \n",
       "\n",
       "                          upscaled_image_en  \\\n",
       "id                                            \n",
       "64163367                                NaN   \n",
       "91231901                                NaN   \n",
       "73262676                                NaN   \n",
       "98319530  ./Images Database/en/98319530.png   \n",
       "37478723  ./Images Database/en/37478723.png   \n",
       "\n",
       "                          upscaled_image_ar  upscaled_image_anime  \n",
       "id                                                                 \n",
       "64163367                                NaN                   NaN  \n",
       "91231901                                NaN                   NaN  \n",
       "73262676                                NaN                   NaN  \n",
       "98319530  ./Images Database/ar/98319530.png                   NaN  \n",
       "37478723  ./Images Database/ar/37478723.png                   NaN  "
      ]
     },
     "execution_count": 9,
     "metadata": {},
     "output_type": "execute_result"
    }
   ],
   "source": [
    "df.rename(columns={\"image_url\" : \"image_url_en\"}, inplace=True)\n",
    "df.head()"
   ]
  },
  {
   "cell_type": "code",
   "execution_count": 17,
   "metadata": {},
   "outputs": [],
   "source": [
    "ar_urls = [\"https://www.arab-duelists.com/assets/img/cards/{}.jpg\".format(i) for i in df.index ]\n",
    "df['image_url_ar'] = ar_urls"
   ]
  },
  {
   "cell_type": "code",
   "execution_count": 19,
   "metadata": {},
   "outputs": [],
   "source": [
    "df.to_csv('database.csv')"
   ]
  },
  {
   "cell_type": "markdown",
   "metadata": {},
   "source": [
    "#### Enable Qt File explorer to fetch deck file"
   ]
  },
  {
   "cell_type": "code",
   "execution_count": 13,
   "metadata": {},
   "outputs": [],
   "source": [
    "%gui qt\n",
    "\n",
    "from PyQt5.QtWidgets import QFileDialog\n",
    "\n",
    "def gui_fname(dir=None):\n",
    "    '''\n",
    "    Select a file via a dialog and return the file name.\n",
    "    '''\n",
    "    if dir is None: dir ='./'\n",
    "    fname = QFileDialog.getOpenFileName(None, \"Select data file...\", \n",
    "                dir, filter=\"All files (*);; SM Files (*.sm)\")\n",
    "    return fname[0]"
   ]
  },
  {
   "cell_type": "markdown",
   "metadata": {},
   "source": [
    "## Part 3: Image setup fuctions"
   ]
  },
  {
   "cell_type": "code",
   "execution_count": 14,
   "metadata": {},
   "outputs": [],
   "source": [
    "def get_image(card_image:str):\n",
    "    '''\n",
    "    Create a GET request to fetch the card image. An image is then returned in bytes format.\n",
    "    '''\n",
    "    response_success = False\n",
    "    while response_success == False:\n",
    "        try:\n",
    "            image = requests.get(card_image, timeout=10)\n",
    "            response_success = image.status_code == 200\n",
    "        except requests.exceptions.ConnectionError:\n",
    "            print('connection error!\\ntrying in 30 seconds..')\n",
    "            time.sleep(30)            \n",
    "    if response_success == True: print(\"image retrieved!\")\n",
    "    image = Image.open(BytesIO(image.content))\n",
    "    return image"
   ]
  },
  {
   "cell_type": "code",
   "execution_count": 15,
   "metadata": {},
   "outputs": [],
   "source": [
    "def upscale_image_local(id:str):\n",
    "    '''\n",
    "    Upscale a given image url using RDN Super Resolution neural network. The image file path is then returned.\n",
    "    '''    \n",
    "    card_image = database.at[id, 'image_url']\n",
    "    image = get_image(card_image)\n",
    "    lr_img = np.array(image)\n",
    "    rdn = RDN(weights='noise-cancel')\n",
    "    sr_image = rdn.predict(lr_img, by_patch_of_size=50);\n",
    "    result = Image.fromarray(sr_image)\n",
    "    file_path = database_folder + str(id) + \".png\"\n",
    "    result.save(file_path, \"PNG\")\n",
    "    \n",
    "    return file_path"
   ]
  },
  {
   "cell_type": "code",
   "execution_count": 16,
   "metadata": {},
   "outputs": [],
   "source": [
    "def process_card(id:str):\n",
    "    '''\n",
    "    Start processing a card given its id. The image file is then returned.\n",
    "    '''\n",
    "    proccessed = database.at[id, 'upscaled_image'] != \" \"\n",
    "\n",
    "    image_path = \"\"\n",
    "    if proccessed == False:\n",
    "        print(database.at[id, 'name'])\n",
    "        print(\"Image not found.\\nProccessing now...\")\n",
    "        image_path = upscale_image_local(id)\n",
    "        database.at[id, 'upscaled_image'] = image_path\n",
    "        database.to_csv(\"./\" + database_filename)\n",
    "    else:\n",
    "        #get the image directly\n",
    "        image_path = database.at[id, 'upscaled_image']\n",
    "        print(\"Image found at \" + image_path)\n",
    "\n",
    "    return Image.open(image_path)"
   ]
  },
  {
   "cell_type": "code",
   "execution_count": 17,
   "metadata": {},
   "outputs": [],
   "source": [
    "import numpy as np\n",
    "import cv2\n",
    "import math\n",
    "def add_border(image:Image, border_size_mm=int):\n",
    "    im = np.array(image)\n",
    "    row, col = im.shape[:2]\n",
    "    mm_to_pixel = 3.7795275591\n",
    "    border_size = math.ceil(mm_to_pixel * border_size_mm)\n",
    "    border = cv2.copyMakeBorder(\n",
    "        im,\n",
    "        top=border_size,\n",
    "        bottom=border_size,\n",
    "        left=border_size,\n",
    "        right=border_size,\n",
    "        borderType=cv2.BORDER_REPLICATE,\n",
    "        value=[200, 200, 200]\n",
    "    )\n",
    "    return Image.fromarray(border)"
   ]
  },
  {
   "cell_type": "markdown",
   "metadata": {},
   "source": [
    "## Part 4: Create .odg file and add the deck cards to it"
   ]
  },
  {
   "cell_type": "code",
   "execution_count": 18,
   "metadata": {},
   "outputs": [],
   "source": [
    "from ODGEditor import ODGEditor\n",
    "import math\n",
    "def create_doc_file(folder_name, deck:dict, back_sleev=\"\"):\n",
    "    '''\n",
    "    Create a .odg file placing the file in 'folder_name', \n",
    "    adding cards in 'deck' and placing the desired sleeve (optional)\n",
    "    '''\n",
    "    odgEditor = ODGEditor(create_path=folder_name, deck=deck.get_result(), back_sleeve=back_sleev, template_file='./Templates/card by card.odg')\n",
    "\n",
    "    page_number = math.ceil(sum(deck.get_result().values())-1)\n",
    "    odgEditor.add_pages(page_number)\n",
    "    odgEditor.insert_cards()\n",
    "    odgEditor.create_new_doc()\n",
    "\n",
    "    odgEditor.copy_card_files()"
   ]
  },
  {
   "cell_type": "code",
   "execution_count": 4,
   "metadata": {},
   "outputs": [],
   "source": [
    "def append_to_recipt(deck:Reader, cards:dict):\n",
    "    print('adding deck to recipt..')\n",
    "    for id, count in deck.get_result().items():\n",
    "        if cards.get(id) == None:\n",
    "            cards[id] = 0\n",
    "        cards[id] += count\n",
    "    return cards"
   ]
  },
  {
   "cell_type": "code",
   "execution_count": 20,
   "metadata": {},
   "outputs": [],
   "source": [
    "def save_image(image:Image, folder_name:str, image_count:int, file_name:str):\n",
    "    # path = folder_name + '/{} copies'.format(str(image_count))\n",
    "    # if not os.path.exists(path):\n",
    "    #     try:\n",
    "    #         os.mkdir(path) \n",
    "    #     except FileExistsError: \n",
    "    #         print('Already exists!')\n",
    "    for i in range(1, image_count+1):\n",
    "        image.save(folder_name + '/' + \"{} ({}).png\".format(file_name, i), \"PNG\")"
   ]
  },
  {
   "cell_type": "code",
   "execution_count": 21,
   "metadata": {},
   "outputs": [],
   "source": [
    "# All of the deck cooking is done here\n",
    "def process_deck(deck :Reader, folder_name:str, make_border:bool=False):\n",
    "    database = import_database()\n",
    "    count = 1\n",
    "    for i, j in deck.get_result().items():\n",
    "        id = str(i)\n",
    "\n",
    "        if id not in database.index: database = update_database()\n",
    "        \n",
    "        card_name = database.at[id, 'name']\n",
    "        card_image = database.at[id, 'image_url']\n",
    "        print({card_name : card_image})\n",
    "        \n",
    "        image = get_image(card_image)\n",
    "        if make_border == True :image = add_border(image, border_size_mm=10)\n",
    "        clear_output(wait=True)\n",
    "        print('[{} card of {} distinct cards]'.format(count, len(deck.get_result())))\n",
    "        count += 1\n",
    "        image.save(folder_name + '/' + \"{}.png\".format(id), \"PNG\")\n",
    "        #save_image(image, file_name=id, folder_name=folder_name, image_count=j)\n",
    "    #create_doc_file(folder_name, deck, back_sleev=back_sleev)\n",
    "    print(\"Deck Done!\")"
   ]
  },
  {
   "cell_type": "code",
   "execution_count": 17,
   "metadata": {},
   "outputs": [],
   "source": [
    "from YDKReader import Reader\n",
    "def generate_deck_recipt(deck:Reader, folder_name:str, cost_multiplier:float = 1):\n",
    "    cards_count = dict()\n",
    "    append_to_recipt(deck, cards_count)\n",
    "    total = sum(cards_count.values())\n",
    "    total_cost = total * cost_multiplier\n",
    "    recipt_file = open(folder_name + '/receipt.txt', 'w')\n",
    "    recipt_file.writelines('=== \\t\\t=========\\n')\n",
    "    recipt_file.writelines(\"Qty \\t\\tCard Name\\n\")\n",
    "    recipt_file.writelines('=== \\t\\t=========\\n')\n",
    "    cards_count = dict(sorted(cards_count.items(), key= lambda x:x[1], reverse=True))\n",
    "    for id, count in cards_count.items():\n",
    "        recipt_file.writelines('{} x \\t\\t{}\\n'.format(str(count), df.at[id, 'name']))\n",
    "    recipt_file.writelines(\"\\n\\nTotal number of cards: \\t{}\\nCheck : \\t\\t {} LE\".format(total, total_cost))\n",
    "    recipt_file.close()"
   ]
  },
  {
   "cell_type": "markdown",
   "metadata": {},
   "source": [
    "### Part 5: Execution of code"
   ]
  },
  {
   "cell_type": "code",
   "execution_count": 9,
   "metadata": {},
   "outputs": [
    {
     "name": "stderr",
     "output_type": "stream",
     "text": [
      "\n",
      "(python3:39292): IBUS-WARNING **: 13:36:02.468: Unable to connect to ibus: Could not connect: Connection refused\n"
     ]
    }
   ],
   "source": [
    "# choosing deck to work on\n",
    "file_name = gui_fname()\n",
    "#file_name = './YDK Files/' + file_name.split('/')[-1]\n",
    "folder_name = file_name.split('.ydk')[0]\n",
    "\n",
    "deck = Reader(file_name)   # The deck data is read and a new folder for the deck is created\n",
    "back_sleev = \"\"\n",
    "\n",
    "# importing a deck sleeve if desired\n",
    "prompt = input(\"Do you want a back sleev? (y/n)\\n\")\n",
    "if prompt == 'y':\n",
    "    back_sleev = gui_fname()"
   ]
  },
  {
   "cell_type": "code",
   "execution_count": 23,
   "metadata": {},
   "outputs": [],
   "source": [
    "database = import_database()"
   ]
  },
  {
   "cell_type": "code",
   "execution_count": null,
   "metadata": {},
   "outputs": [
    {
     "ename": "NameError",
     "evalue": "name 'process_deck' is not defined",
     "output_type": "error",
     "traceback": [
      "\u001b[31m---------------------------------------------------------------------------\u001b[39m",
      "\u001b[31mNameError\u001b[39m                                 Traceback (most recent call last)",
      "\u001b[36mCell\u001b[39m\u001b[36m \u001b[39m\u001b[32mIn[2]\u001b[39m\u001b[32m, line 3\u001b[39m\n\u001b[32m      1\u001b[39m folder_name = \u001b[33m\"\u001b[39m\u001b[33mE:\u001b[39m\u001b[38;5;130;01m\\\\\u001b[39;00m\u001b[33mYUGIOH Deck Wizard\u001b[39m\u001b[38;5;130;01m\\\\\u001b[39;00m\u001b[33mOrders\u001b[39m\u001b[38;5;130;01m\\\\\u001b[39;00m\u001b[33mPrint\u001b[39m\u001b[38;5;130;01m\\\\\u001b[39;00m\u001b[33mMahmoud\u001b[39m\u001b[38;5;130;01m\\\\\u001b[39;00m\u001b[33mDecks\u001b[39m\u001b[33m\"\u001b[39m\n\u001b[32m      2\u001b[39m deck = Reader(folder_name + \u001b[33m\"\u001b[39m\u001b[38;5;130;01m\\\\\u001b[39;00m\u001b[33m\"\u001b[39m + \u001b[33m\"\u001b[39m\u001b[33mAll.ydk\u001b[39m\u001b[33m\"\u001b[39m)\n\u001b[32m----> \u001b[39m\u001b[32m3\u001b[39m \u001b[43mprocess_deck\u001b[49m(deck, folder_name, make_border=\u001b[38;5;28;01mFalse\u001b[39;00m)\n",
      "\u001b[31mNameError\u001b[39m: name 'process_deck' is not defined"
     ]
    }
   ],
   "source": [
    "process_deck(deck, folder_name, make_border=False)"
   ]
  },
  {
   "cell_type": "code",
   "execution_count": null,
   "metadata": {},
   "outputs": [],
   "source": [
    "if back_sleev != \"\":\n",
    "    back = add_border(Image.open(back_sleev), 10)\n",
    "    back.save(folder_name + \"/back.png\", \"PNG\")"
   ]
  },
  {
   "cell_type": "code",
   "execution_count": null,
   "metadata": {},
   "outputs": [],
   "source": [
    "create_doc_file(folder_name, deck, back_sleev)"
   ]
  },
  {
   "cell_type": "code",
   "execution_count": 18,
   "metadata": {},
   "outputs": [
    {
     "name": "stdout",
     "output_type": "stream",
     "text": [
      "adding deck to recipt..\n"
     ]
    }
   ],
   "source": [
    "folder_name = \"E:\\\\YUGIOH Deck Wizard\\\\Orders\\\\Print\\\\Mahmoud\\\\Decks\"\n",
    "deck = Reader(folder_name + \"\\\\\" + \"All.ydk\")\n",
    "generate_deck_recipt(deck, folder_name, cost_multiplier=1.5)"
   ]
  },
  {
   "cell_type": "markdown",
   "metadata": {},
   "source": [
    "## Cloud API calling (not currently used due to limited quota)"
   ]
  },
  {
   "cell_type": "markdown",
   "metadata": {},
   "source": [
    "#### Upscale using the replicate Super Resolution neural network"
   ]
  },
  {
   "cell_type": "code",
   "execution_count": null,
   "metadata": {},
   "outputs": [],
   "source": [
    "def upscale_image_replicate():\n",
    "    post_data = {\n",
    "        \"version\": \"9d91795e944f3a585fa83f749617fc75821bea8b323348f39cf84f8fd0cbc2f7\",\n",
    "        \"input\" : {\"image\" : card_image}\n",
    "    }\n",
    "    post_hearders = {\n",
    "        \"Authorization\" : \"Token [my token :)]\",\n",
    "        \"Content-Type\" : \"application/json\"\n",
    "    }\n",
    "\n",
    "    response = requests.post('https://api.replicate.com/v1/predictions', data=json.dumps(post_data), headers=post_hearders)\n",
    "    if response.status_code != 201:\n",
    "        print(response.status_code)\n",
    "        print(response.content)\n",
    "    else:\n",
    "        print(response.json())\n",
    "        \n",
    "    #get the processed card after upscaling\n",
    "    response_dict = dict(response.json())\n",
    "\n",
    "    # wait until the process is finished\n",
    "    time.sleep(20)\n",
    "    output_image = requests.get(response_dict['urls']['get'], headers=post_hearders)\n",
    "\n",
    "    print(output_image.status_code)\n",
    "    print(output_image.content)\n",
    "\n",
    "    #get the image after prcoessing it\n",
    "    img_url = dict(output_image.json())['output'][0]['file']\n",
    "    \n",
    "    #caching the image link\n",
    "    database.at[id, \"upscaled_image\"] = img_url\n",
    "    database.to_csv('./' + database_filename)\n"
   ]
  },
  {
   "cell_type": "markdown",
   "metadata": {},
   "source": [
    "#### Upscale using the waifu2x Super Resolution (model uploaded on DeepAI)"
   ]
  },
  {
   "cell_type": "code",
   "execution_count": null,
   "metadata": {},
   "outputs": [],
   "source": [
    "def upscale_image_waifu2x():\n",
    "   response = requests.post(\n",
    "    \"https://api.deepai.org/api/waifu2x\",\n",
    "    data={\n",
    "        'image': card_image,\n",
    "    },\n",
    "    headers={'api-key': 'quickstart-[my token :)]'}\n",
    "   )\n",
    "   time.sleep(10)\n",
    "   print(response.json())\n",
    "   img = response.json()['output_url']\n",
    "   import urllib.request\n",
    "   file_path = database_folder + str(id)\n",
    "   urllib.request.urlretrieve(img, file_path + \".png\")\n",
    "   return file_path"
   ]
  },
  {
   "cell_type": "code",
   "execution_count": 1,
   "metadata": {},
   "outputs": [],
   "source": [
    "import cv2\n",
    "from PIL import Image\n",
    "import numpy as np\n",
    "import math\n",
    "def add_border(image:Image, border_size_mm=int):\n",
    "    im = np.array(image)\n",
    "    mm_to_pixel = 3.7795275591\n",
    "    border_size = math.ceil(mm_to_pixel * border_size_mm)\n",
    "    border = cv2.copyMakeBorder(\n",
    "        im,\n",
    "        top=border_size,\n",
    "        bottom=border_size,\n",
    "        left=border_size,\n",
    "        right=border_size,\n",
    "        borderType=cv2.BORDER_REPLICATE,\n",
    "        value=[200, 200, 200]\n",
    "    )\n",
    "    return Image.fromarray(border)"
   ]
  },
  {
   "cell_type": "code",
   "execution_count": 3,
   "metadata": {},
   "outputs": [],
   "source": [
    "image = Image.open(\"E:\\\\YUGIOH Deck Wizard\\\\yugioh-deck-wizard\\\\Templates\\\\frame.png\")\n",
    "image = add_border(image, border_size_mm=14)\n",
    "image.save(\"E:\\\\YUGIOH Deck Wizard\\\\yugioh-deck-wizard\\\\Templates\\\\frame-bulk.png\", \"PNG\")"
   ]
  },
  {
   "cell_type": "code",
   "execution_count": null,
   "metadata": {},
   "outputs": [],
   "source": []
  }
 ],
 "metadata": {
  "kernelspec": {
   "display_name": "Python 3",
   "language": "python",
   "name": "python3"
  },
  "language_info": {
   "codemirror_mode": {
    "name": "ipython",
    "version": 3
   },
   "file_extension": ".py",
   "mimetype": "text/x-python",
   "name": "python",
   "nbconvert_exporter": "python",
   "pygments_lexer": "ipython3",
   "version": "3.12.4"
  },
  "orig_nbformat": 4
 },
 "nbformat": 4,
 "nbformat_minor": 2
}
