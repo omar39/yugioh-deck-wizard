{
 "cells": [
  {
   "cell_type": "code",
   "execution_count": 2,
   "metadata": {},
   "outputs": [],
   "source": [
    "import os, sys\n",
    "import zipfile\n",
    "import xml.dom.minidom\n",
    "from YDKReader import Reader"
   ]
  },
  {
   "cell_type": "code",
   "execution_count": 153,
   "metadata": {},
   "outputs": [],
   "source": [
    "class ODGEditor:\n",
    "    doc = \"\"\n",
    "\n",
    "    def __init__(self, filename:str, deck:dict):\n",
    "        \"\"\"\n",
    "        Open an ODG file.\n",
    "        \"\"\"\n",
    "        self.filename = filename\n",
    "        self.deck = deck\n",
    "        self.m_odg = zipfile.ZipFile(filename)\n",
    "        self.filelist = self.m_odg.infolist()\n",
    "        self.content_zipinfo = \"\"\n",
    "        for s in self.filelist:\n",
    "            if s.orig_filename == 'content.xml':\n",
    "                self.content_zipinfo = s\n",
    "        ostr = self.m_odg.read('content.xml')\n",
    "        self.doc = xml.dom.minidom.parseString(ostr)\n",
    "\n",
    "    def get_out_doc(self):\n",
    "        \"\"\"\n",
    "        \n",
    "        \"\"\"\n",
    "        with zipfile.ZipFile('./new_deck.odg') as out_doc:\n",
    "            ostr = out_doc.read('content.xml')\n",
    "            doc = xml.dom.minidom.parseString(ostr)\n",
    "        return doc\n",
    "\n",
    "    def add_pages(self, number_of_pages):\n",
    "        \"\"\"\n",
    "        Add a number of pages with the same template.\n",
    "        \"\"\"\n",
    "        page = self.doc.getElementsByTagName('draw:page')[0]\n",
    "\n",
    "        for i in range (number_of_pages):\n",
    "            new_page = page.cloneNode(True)\n",
    "            new_page.setAttribute('draw:name', 'page' + str(i+2))\n",
    "            self.doc.getElementsByTagName('office:drawing')[0].appendChild(new_page)\n",
    "        print(str(number_of_pages) + \" page(s) have been added.\")\n",
    "\n",
    "    def create_new_doc(self, create_path=\"\"):\n",
    "        with zipfile.ZipFile(create_path + './new_deck.odg', 'w') as out_doc:\n",
    "            for s in self.filelist:\n",
    "                with self.m_odg.open(s) as infile:\n",
    "                    if s.filename == 'content.xml':\n",
    "                        out_doc.writestr(s.filename, self.doc.toxml())\n",
    "                    else:\n",
    "                        out_doc.writestr(s.filename, infile.read())\n",
    "            out_doc.close()\n",
    "\n",
    "    def add_cards(self):\n",
    "        with zipfile.ZipFile('./new_deck.odg', 'a') as out_doc:\n",
    "            print(\"copying cards...\")\n",
    "            for card in self.deck.keys():\n",
    "                out_doc.write(\"./{}/{}\".format('Images Database', card+\".png\"), \"{}/{}\".format(\"Pictures\", card+\".png\"))\n",
    "            out_doc.close()\n",
    "    \n",
    "    def insert_cards(self):\n",
    "        #doc = self.get_out_doc()\n",
    "        place_holders = self.doc.getElementsByTagName('draw:image')\n",
    "        print(len(place_holders))\n",
    "        for card, amount in self.deck.items(): \n",
    "            for _ in range(amount):\n",
    "                curr_placeholder = place_holders[0]\n",
    "                place_holders[0].setAttribute('xlink:href', 'Pictures/{}'.format(card+\".png\"))\n",
    "                place_holders.remove(curr_placeholder)"
   ]
  },
  {
   "cell_type": "code",
   "execution_count": 154,
   "metadata": {},
   "outputs": [],
   "source": [
    "deck = Reader('YDK Files/Cyberse strucutre deck.ydk')"
   ]
  },
  {
   "cell_type": "code",
   "execution_count": 155,
   "metadata": {},
   "outputs": [],
   "source": [
    "odg = ODGEditor('Templates/OgTemplate.odg', deck.get_result())"
   ]
  },
  {
   "cell_type": "code",
   "execution_count": 156,
   "metadata": {},
   "outputs": [
    {
     "name": "stdout",
     "output_type": "stream",
     "text": [
      "6 page(s) have been added.\n"
     ]
    }
   ],
   "source": [
    "odg.add_pages(6)"
   ]
  },
  {
   "cell_type": "code",
   "execution_count": 157,
   "metadata": {},
   "outputs": [
    {
     "name": "stdout",
     "output_type": "stream",
     "text": [
      "63\n"
     ]
    }
   ],
   "source": [
    "odg.insert_cards()"
   ]
  },
  {
   "cell_type": "code",
   "execution_count": 158,
   "metadata": {},
   "outputs": [],
   "source": [
    "odg.create_new_doc()"
   ]
  },
  {
   "cell_type": "code",
   "execution_count": 159,
   "metadata": {},
   "outputs": [
    {
     "name": "stdout",
     "output_type": "stream",
     "text": [
      "copying cards...\n"
     ]
    }
   ],
   "source": [
    "odg.add_cards()"
   ]
  },
  {
   "cell_type": "code",
   "execution_count": null,
   "metadata": {},
   "outputs": [],
   "source": []
  }
 ],
 "metadata": {
  "kernelspec": {
   "display_name": "Python 3",
   "language": "python",
   "name": "python3"
  },
  "language_info": {
   "codemirror_mode": {
    "name": "ipython",
    "version": 3
   },
   "file_extension": ".py",
   "mimetype": "text/x-python",
   "name": "python",
   "nbconvert_exporter": "python",
   "pygments_lexer": "ipython3",
   "version": "3.8.10"
  },
  "orig_nbformat": 4
 },
 "nbformat": 4,
 "nbformat_minor": 2
}
